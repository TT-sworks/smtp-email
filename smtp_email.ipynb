{
 "cells": [
  {
   "cell_type": "code",
   "execution_count": null,
   "id": "debug-cell",
   "metadata": {},
   "outputs": [],
   "source": [
    "# Debug: Print environment variables (do not print password in logs)\n",
    "import os\n",
    "print(\"MY_EMAIL:\", os.environ.get(\"MY_EMAIL\"))\n",
    "print(\"TO_EMAIL:\", os.environ.get(\"TO_EMAIL\"))\n",
    "print(\"MY_EMAIL_PASSWORD is set:\", bool(os.environ.get(\"MY_EMAIL_PASSWORD\")))\n"
   ]
  },
  {
   "cell_type": "code",
   "execution_count": null,
   "id": "0eca308f",
   "metadata": {},
   "outputs": [],
   "source": [
    "import os\n",
    "from email.message import EmailMessage\n",
    "import smtplib\n",
    "from datetime import datetime\n",
    "import pytz\n",
    "\n",
    "try:\n",
    "    from dotenv import load_dotenv\n",
    "    load_dotenv()\n",
    "except ImportError:\n",
    "    pass  # If dotenv is not installed, skip loading .env\n",
    "\n",
    "def send_email():\n",
    "    ist = pytz.timezone(\"Asia/Kolkata\")\n",
    "    now = datetime.now(ist)\n",
    "    timestamp = now.strftime(\"Email was sent by Maestro by running a python script on %d %B %Y at %H:%M IST\")\n",
    "\n",
    "    msg = EmailMessage()\n",
    "    msg[\"Subject\"] = \"Maestro Workflow Notification\"\n",
    "    msg[\"From\"] = os.environ.get(\"MY_EMAIL\")\n",
    "    msg[\"To\"] = os.environ.get(\"TO_EMAIL\")\n",
    "    msg.set_content(timestamp)\n",
    "\n",
    "    with smtplib.SMTP(\"smtp.office365.com\", 587) as server:\n",
    "        server.starttls()\n",
    "        server.login(os.environ.get(\"MY_EMAIL\"), os.environ.get(\"MY_EMAIL_PASSWORD\"))\n",
    "        server.send_message(msg)\n",
    "\n",
    "if __name__ == \"__main__\":\n",
    "    send_email()\n"
   ]
  }
 ],
 "metadata": {
  "kernelspec": {
    "name": "python3",
    "display_name": "Python 3",
    "language": "python"
  },
  "language_info": {
   "name": "python"
  }
 },
 "nbformat": 4,
 "nbformat_minor": 5
}
