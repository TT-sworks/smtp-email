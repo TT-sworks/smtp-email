{
 "cells": [
  {
   "cell_type": "code",
   "execution_count": null,
   "id": "parameters-cell",
   "metadata": {
     "tags": ["parameters"]
   },
   "outputs": [],
   "source": [
    "# Papermill parameters cell\n",
    "MY_EMAIL = None\n",
    "MY_EMAIL_PASSWORD = None\n",
    "TO_EMAIL = None\n"
   ]
  },
  {
   "cell_type": "code",
   "execution_count": null,
   "id": "debug-cell",
   "metadata": {},
   "outputs": [],
   "source": [
    "# Debug: Print parameter values (do not print password in logs)\n",
    "print(\"MY_EMAIL:\", MY_EMAIL)\n",
    "print(\"TO_EMAIL:\", TO_EMAIL)\n",
    "print(\"MY_EMAIL_PASSWORD is set:\", bool(MY_EMAIL_PASSWORD))\n"
   ]
  },
  {
   "cell_type": "code",
   "execution_count": null,
   "id": "send-email-cell",
   "metadata": {},
   "outputs": [],
   "source": [
    "from email.message import EmailMessage\n",
    "import smtplib\n",
    "from datetime import datetime\n",
    "import pytz\n",
    "\n",
    "def send_email():\n",
    "    ist = pytz.timezone(\"Asia/Kolkata\")\n",
    "    now = datetime.now(ist)\n",
    "    timestamp = now.strftime(\"Email was sent by Maestro by running a python script on %d %B %Y at %H:%M IST\")\n",
    "\n",
    "    msg = EmailMessage()\n",
    "    msg[\"Subject\"] = \"Maestro Workflow Notification\"\n",
    "    msg[\"From\"] = MY_EMAIL\n",
    "    msg[\"To\"] = TO_EMAIL\n",
    "    msg.set_content(timestamp)\n",
    "\n",
    "    with smtplib.SMTP(\"smtp.office365.com\", 587) as server:\n",
    "        server.starttls()\n",
    "        server.login(MY_EMAIL, MY_EMAIL_PASSWORD)\n",
    "        server.send_message(msg)\n",
    "\n",
    "if __name__ == \"__main__\":\n",
    "    send_email()\n"
   ]
  }
 ],
 "metadata": {
  "kernelspec": {
    "name": "python3",
    "display_name": "Python 3",
    "language": "python"
  },
  "language_info": {
   "name": "python"
  }
 },
 "nbformat": 4,
 "nbformat_minor": 5
}
